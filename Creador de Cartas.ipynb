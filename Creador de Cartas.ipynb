{
 "cells": [
  {
   "cell_type": "markdown",
   "id": "minute-installation",
   "metadata": {},
   "source": [
    "# Creador interactivo de cartas\n",
    "\n",
    "\n",
    "**Carlos Isaac Zainea**   \n",
    "*Codificación: Nivel Avanzado*   \n",
    "*Universidad Externado de Colombia*   \n",
    "2021-1"
   ]
  },
  {
   "cell_type": "markdown",
   "id": "instant-reliance",
   "metadata": {},
   "source": [
    "El siguiente cuaderno tiene algunas instrucciones que le permitiran crear un módulo interactivo para escribir cartas, el objetivo es repasar lo leido en los cuadernos [*listas y arreglos*](https://izainea.github.io/codificacionabogados/#photos) y [*funciones, módulos y paquetes*](https://izainea.github.io/codificacionabogados/#photos). No se preocupe si no termina de realizar la actividad, verá que durante la clase responderemos todas las preguntas que surjan después de realizar este módulo. No olvide que tiene disponible el canal de telegram para que fijemos tutorías o sesiones adicionales.\n",
    "\n",
    "Recomiendo ver los siguientes tutoriales hermosos de python para resolver preguntas rápidas:\n",
    "\n",
    "1. [w3Schools](https://www.w3schools.com/python/)\n",
    "2. [Learn Python](https://www.learnpython.org/es/)\n",
    "\n"
   ]
  },
  {
   "cell_type": "markdown",
   "id": "destroyed-pakistan",
   "metadata": {},
   "source": [
    "## Empezar a crear una carta - la función\n",
    "\n",
    "* Iniciamos con identificar la estructura de una carta, el siguiente dibujo puede ayudar:   \n",
    "    \n",
    "    <p><img src=\"https://raw.githubusercontent.com/Izainea/codificacionabogados/master/img/carta.jpg\" style=\"width:350px\"></p>\n",
    "    \n",
    "* El diagrama anterior nos permite tener una idea de la estructura de nuestra función, sobre los diferentes argumentos posibles, que son todos los mencionados en el dibujo,  permitiremos que el usuario tenga la posibilidad de escoger de una lista los siguientes:   \n",
    "        \n",
    "        > * Lugar (Solo permitiremos Bogotá D.C. o Medellín, Antioquia) \n",
    "        > * Tratamiento  \n",
    "        > * Saludo\n",
    "        > * Despedida\n",
    "        > * Firma (Asumimos que hay dos socios, el Ingeniero Pepito Perez y el Abogado Carlos Rodriguez)         \n",
    "  Aquí para cada argumento debemos crear una lista o un diccionario con las diferentes opciones que el creador de la carta podrá escoger, las siguientes variables le pueden servir:"
   ]
  },
  {
   "cell_type": "code",
   "execution_count": 1,
   "id": "under-exercise",
   "metadata": {},
   "outputs": [],
   "source": [
    "Lugar= [\"Bogotá D.C.\",\"Medellín, Antioquia\"]\n",
    "Tratamiento={\"Señor\":\"Sr.\",\"Señora\":\"Sra.\",\"Doctora\":\"Dra.\",\"Doctor\":\"Dr.\"}\n",
    "Saludo=[\"Distinguida Señora\", \"Estimado Señor\", \"Cordial Saludo\",\"Estimados Señores\" ]\n",
    "Despedida=[\"Atentamente,\", \"Cordialmente,\",\"Respetuosamente,\"]\n",
    "Firma={\"Ingeniero\":\"Pepito Perez \\nIngeniero\",\"Doctor\":\"Carlos Rodriguez \\nAbogado en Medicina\"}"
   ]
  },
  {
   "cell_type": "markdown",
   "id": "effective-coordinate",
   "metadata": {},
   "source": [
    "* Los demas textos serán proporcionados por el usuario, por lo tanto no los definiremos aún, en la siguiente celda definimos la función que crea la carta:"
   ]
  },
  {
   "cell_type": "code",
   "execution_count": 2,
   "id": "indonesian-firewall",
   "metadata": {},
   "outputs": [],
   "source": [
    "def carta(lugar, fecha, tratamiento, destinatario, cargo, empresa, saludo, cuerpo, despedida, firma):\n",
    "    fecha=str(fecha)#cambiamos el tipo de dato de la fecha porque la necesitamos como cadena de texto.\n",
    "    print(\"\\n\\n\\n\")\n",
    "    print(lugar +\", \"+fecha)\n",
    "    print(\"\\n\\n\\n\")\n",
    "    print(tratamiento, destinatario)\n",
    "    print(cargo)\n",
    "    print(empresa)\n",
    "    print(\"\\n\\n\")\n",
    "    print(saludo)\n",
    "    print(\"\\n\")\n",
    "    print(cuerpo)\n",
    "    print(\"\\n\")\n",
    "    print(despedida)\n",
    "    print(\"\\n\\n\\n\")\n",
    "    print(firma)\n",
    "    return"
   ]
  },
  {
   "cell_type": "markdown",
   "id": "contemporary-robertson",
   "metadata": {},
   "source": [
    "Probemos la función:"
   ]
  },
  {
   "cell_type": "code",
   "execution_count": 3,
   "id": "warming-necklace",
   "metadata": {},
   "outputs": [
    {
     "name": "stdout",
     "output_type": "stream",
     "text": [
      "\n",
      "\n",
      "\n",
      "\n",
      "Bogotá D.C., 2 de Julio de 2020\n",
      "\n",
      "\n",
      "\n",
      "\n",
      "Sr. Juan Perez\n",
      "Docente\n",
      "Universidad Externado de Colombia\n",
      "\n",
      "\n",
      "\n",
      "Distinguida Señora\n",
      "\n",
      "\n",
      "Le envío una carta corta\n",
      "\n",
      "\n",
      "Atentamente,\n",
      "\n",
      "\n",
      "\n",
      "\n",
      "Pepito Perez \n",
      "Ingeniero\n"
     ]
    }
   ],
   "source": [
    "carta(Lugar[0],\"2 de Julio de 2020\",Tratamiento[\"Señor\"],\"Juan Perez\", \"Docente\",\"Universidad Externado de Colombia\",\n",
    "      Saludo[0],\"Le envío una carta corta\", Despedida[0],Firma[\"Ingeniero\"])"
   ]
  },
  {
   "cell_type": "markdown",
   "id": "moved-raleigh",
   "metadata": {},
   "source": [
    "***Ejercicio.*** Responda:\n",
    "\n",
    "* ¿Que problemas tiene esta carta?\n",
    "* Describa que significa `Lugar[0]`, `Saludo[0]` y `Despedida[0]` ¿Puede arreglar la carta?¿Cómo?\n",
    "* El que debe firmar es el Abogado ¿Como arregla la línea anterior?\n",
    "* Cuál es el error en la siguiente línea:\n",
    "\n",
    "```Python\n",
    "carta(Lugar[0],\"2 de Julio de 2020\",Tratamiento[\"Señor\"],\"Juan Perez\", \"Docente\",\"Universidad Externado de Colombia\",Saludo[0],\"Le envío una carta corta\", Despedida[0])\n",
    "```"
   ]
  },
  {
   "cell_type": "markdown",
   "id": "important-twist",
   "metadata": {},
   "source": [
    "El anterior ejercicio, aunque imprime una carta aceptable, hace que los argumentos sean difíciles de ingresar, usaremos el paquete [`ipywidgets`](https://ipywidgets.readthedocs.io/en/latest/index.html) para crear módulos interactivos. En este caso usaremos cuatro tipos de widgets:\n",
    "\n",
    "1. [`widgets.Dropdown`](https://ipywidgets.readthedocs.io/en/latest/examples/Widget%20List.html#Dropdown),\n",
    "2. [`widgets.Textarea`](https://ipywidgets.readthedocs.io/en/latest/examples/Widget%20List.html#Textarea),\n",
    "3. [`widgets.Text`](https://ipywidgets.readthedocs.io/en/latest/examples/Widget%20List.html#Text) y\n",
    "4. [`ẁidgets.DatePicker`](https://ipywidgets.readthedocs.io/en/latest/examples/Widget%20List.html#Date-picker)\n",
    "\n",
    "El siguiente código cargará las funciones necesarias para trabajar con estos widgets:"
   ]
  },
  {
   "cell_type": "code",
   "execution_count": 4,
   "id": "bottom-court",
   "metadata": {},
   "outputs": [],
   "source": [
    "import ipywidgets as widgets\n",
    "from ipywidgets import interact, Layout"
   ]
  },
  {
   "cell_type": "markdown",
   "id": "proud-wages",
   "metadata": {},
   "source": [
    "***Ejercicio.*** Trate de explicar el código de la celda anterior."
   ]
  },
  {
   "cell_type": "markdown",
   "id": "competent-chorus",
   "metadata": {},
   "source": [
    "Con los paquetes cargados usaremos cada tipo de widget para hacer un módulo interactivo, iniciamos con el widget *Dropdown*.\n",
    "\n",
    "### widgets.Dropdown\n",
    "\n",
    "Se usa para crear listas desplegables, la sintáxis de esta función es:\n",
    "\n",
    "```Python\n",
    "widgets.Dropdown(\n",
    "    options=['1', '2', '3'], #Lista de opciones, puede ser un diccionario\n",
    "    value='2',# Valor escogido por defecto\n",
    "    description='Number:', #Texto que aparece al lado de la lista\n",
    ")\n",
    "```\n",
    "A continuación, por cada lista o diccionario armamos un widget:"
   ]
  },
  {
   "cell_type": "code",
   "execution_count": 5,
   "id": "actual-intent",
   "metadata": {},
   "outputs": [
    {
     "data": {
      "application/vnd.jupyter.widget-view+json": {
       "model_id": "3d2ea2a3d84843f180727a0edd0da71d",
       "version_major": 2,
       "version_minor": 0
      },
      "text/plain": [
       "Dropdown(description='Lugar:', options=('Bogotá D.C.', 'Medellín, Antioquia'), value='Bogotá D.C.')"
      ]
     },
     "metadata": {},
     "output_type": "display_data"
    }
   ],
   "source": [
    "## Lugar \n",
    "lugar=widgets.Dropdown(\n",
    "    options=Lugar, #Lista de opciones, puede ser un diccionario\n",
    "    description='Lugar:', #Texto que aparece al lado de la lista\n",
    ")\n",
    "lugar"
   ]
  },
  {
   "cell_type": "markdown",
   "id": "inappropriate-campaign",
   "metadata": {},
   "source": [
    "**Observación.** La línea 6 de la anterior celda hace referencia al llamado del widget que acabamos de crear, si no lo ponemos creamos el widget pero no lo podemos ver."
   ]
  },
  {
   "cell_type": "code",
   "execution_count": 6,
   "id": "modified-literature",
   "metadata": {},
   "outputs": [
    {
     "data": {
      "application/vnd.jupyter.widget-view+json": {
       "model_id": "fd691b2800fb442ab43a81f5cd5800d9",
       "version_major": 2,
       "version_minor": 0
      },
      "text/plain": [
       "Dropdown(description='Tratamiento:', options={'Señor': 'Sr.', 'Señora': 'Sra.', 'Doctora': 'Dra.', 'Doctor': '…"
      ]
     },
     "metadata": {},
     "output_type": "display_data"
    }
   ],
   "source": [
    "## Tratamiento \n",
    "tratamiento=widgets.Dropdown(\n",
    "    options=Tratamiento, #Lista de opciones, puede ser un diccionario\n",
    "    description='Tratamiento:', #Texto que aparece al lado de la lista\n",
    ")\n",
    "tratamiento"
   ]
  },
  {
   "cell_type": "code",
   "execution_count": 7,
   "id": "veterinary-memorial",
   "metadata": {},
   "outputs": [
    {
     "data": {
      "application/vnd.jupyter.widget-view+json": {
       "model_id": "af8f8b12d1ce47a98e0546e80ee65884",
       "version_major": 2,
       "version_minor": 0
      },
      "text/plain": [
       "Dropdown(description='Saludo:', options=('Distinguida Señora', 'Estimado Señor', 'Cordial Saludo', 'Estimados …"
      ]
     },
     "metadata": {},
     "output_type": "display_data"
    }
   ],
   "source": [
    "## Saludo \n",
    "saludo=widgets.Dropdown(\n",
    "    options=Saludo, #Lista de opciones, puede ser un diccionario\n",
    "    description='Saludo:', #Texto que aparece al lado de la lista\n",
    ")\n",
    "saludo"
   ]
  },
  {
   "cell_type": "code",
   "execution_count": 8,
   "id": "demanding-thesis",
   "metadata": {},
   "outputs": [
    {
     "data": {
      "application/vnd.jupyter.widget-view+json": {
       "model_id": "fcf7a6c329ee4575bb008a76717ac0c4",
       "version_major": 2,
       "version_minor": 0
      },
      "text/plain": [
       "Dropdown(description='Despedida:', options=('Atentamente,', 'Cordialmente,', 'Respetuosamente,'), value='Atent…"
      ]
     },
     "metadata": {},
     "output_type": "display_data"
    }
   ],
   "source": [
    "## Despedida \n",
    "despedida=widgets.Dropdown(\n",
    "    options=Despedida, #Lista de opciones, puede ser un diccionario\n",
    "    description='Despedida:', #Texto que aparece al lado de la lista\n",
    ")\n",
    "despedida"
   ]
  },
  {
   "cell_type": "code",
   "execution_count": 9,
   "id": "elementary-mailing",
   "metadata": {},
   "outputs": [
    {
     "data": {
      "application/vnd.jupyter.widget-view+json": {
       "model_id": "b1f910cfbc3b41b98cbf2c64ccace9e9",
       "version_major": 2,
       "version_minor": 0
      },
      "text/plain": [
       "Dropdown(description='Firma:', options={'Ingeniero': 'Pepito Perez \\nIngeniero', 'Doctor': 'Carlos Rodriguez \\…"
      ]
     },
     "metadata": {},
     "output_type": "display_data"
    }
   ],
   "source": [
    "## Firma \n",
    "firma=widgets.Dropdown(\n",
    "    options=Firma, #Lista de opciones, puede ser un diccionario\n",
    "    description='Firma:', #Texto que aparece al lado de la lista\n",
    ")\n",
    "firma"
   ]
  },
  {
   "cell_type": "markdown",
   "id": "extraordinary-bristol",
   "metadata": {},
   "source": [
    "**Ejercicio.** ¿Qué muestra el widget cuando las opciones son un diccionario?"
   ]
  },
  {
   "cell_type": "markdown",
   "id": "joint-salem",
   "metadata": {},
   "source": [
    "### widgets.Text\n",
    "\n",
    "Lo utilizaremos para hacer referencia a textos cortos, la sintáxis es la siguiente:\n",
    "```Python\n",
    "widgets.Text(\n",
    "    value='Hello World',#Valor por defecto\n",
    "    placeholder='Type something',#Valor si no hay nada escrito\n",
    "    description='String:', #Texto que nomra al widget\n",
    ")\n",
    "```\n",
    "Utilizaremos este widget para los textos cortos:\n",
    "\n",
    "* destinatario\n",
    "* cargo\n",
    "* empresa"
   ]
  },
  {
   "cell_type": "code",
   "execution_count": 10,
   "id": "steady-drive",
   "metadata": {},
   "outputs": [
    {
     "data": {
      "application/vnd.jupyter.widget-view+json": {
       "model_id": "7fd3e136651c46df9c2fe0f7438c8e1c",
       "version_major": 2,
       "version_minor": 0
      },
      "text/plain": [
       "Text(value='', description='Dirigida a:', placeholder='Destinatario')"
      ]
     },
     "metadata": {},
     "output_type": "display_data"
    }
   ],
   "source": [
    "destinatario= widgets.Text(\n",
    "    value='',#Valor por defecto\n",
    "    placeholder='Destinatario',#Valor si no hay nada escrito\n",
    "    description='Dirigida a:', #Texto que nomra al widget\n",
    ")\n",
    "destinatario"
   ]
  },
  {
   "cell_type": "code",
   "execution_count": 11,
   "id": "incredible-fisher",
   "metadata": {},
   "outputs": [
    {
     "data": {
      "application/vnd.jupyter.widget-view+json": {
       "model_id": "23f1b39ade9442cb899e72de33ad47bc",
       "version_major": 2,
       "version_minor": 0
      },
      "text/plain": [
       "Text(value='', description='Cargo:', placeholder='Escriba el cargo del destinatario')"
      ]
     },
     "metadata": {},
     "output_type": "display_data"
    }
   ],
   "source": [
    "cargo= widgets.Text(\n",
    "    value='',#Valor por defecto\n",
    "    placeholder='Escriba el cargo del destinatario',#Valor si no hay nada escrito\n",
    "    description='Cargo:', #Texto que nomra al widget\n",
    ")\n",
    "cargo"
   ]
  },
  {
   "cell_type": "code",
   "execution_count": 12,
   "id": "decent-midwest",
   "metadata": {},
   "outputs": [
    {
     "data": {
      "application/vnd.jupyter.widget-view+json": {
       "model_id": "048c12c2d33e446b83b3fa6fe23b381c",
       "version_major": 2,
       "version_minor": 0
      },
      "text/plain": [
       "Text(value='', description='Empresa:', placeholder='Escriba la empresa del destinatario')"
      ]
     },
     "metadata": {},
     "output_type": "display_data"
    }
   ],
   "source": [
    "empresa= widgets.Text(\n",
    "    value='',#Valor por defecto\n",
    "    placeholder='Escriba la empresa del destinatario',#Valor si no hay nada escrito\n",
    "    description='Empresa:', #Texto que nomra al widget\n",
    ")\n",
    "empresa"
   ]
  },
  {
   "cell_type": "markdown",
   "id": "bright-bangladesh",
   "metadata": {},
   "source": [
    "### widgets.TextArea\n",
    "\n",
    "Se utiliza para crear texto Ancho, podemos modificar el ancho y largo del área para escribir, su sintáxis es:\n",
    "\n",
    "```Python\n",
    "widgets.Textarea(\n",
    "    value='Hello World',#Valor por defecto\n",
    "    placeholder='Type something',#Valor si no hay nada escrito\n",
    "    description='String:', #Texto que nomra al widget\n",
    "    layout=Layout(width='300px',height='100px')#Alto y ancho,\n",
    ")\n",
    "```\n",
    "\n",
    "Lo usaremos para el cuerpo."
   ]
  },
  {
   "cell_type": "code",
   "execution_count": 13,
   "id": "permanent-skirt",
   "metadata": {},
   "outputs": [
    {
     "data": {
      "application/vnd.jupyter.widget-view+json": {
       "model_id": "bd607305e7284ae6a0d3306a23288fbd",
       "version_major": 2,
       "version_minor": 0
      },
      "text/plain": [
       "Textarea(value='', description='Cuerpo:', layout=Layout(height='300px', width='500px'), placeholder='Cuerpo de…"
      ]
     },
     "metadata": {},
     "output_type": "display_data"
    }
   ],
   "source": [
    "## Cuerpo\n",
    "cuerpo=widgets.Textarea(\n",
    "    value='',#Valor por defecto\n",
    "    placeholder='Cuerpo del mensaje',#Valor si no hay nada escrito\n",
    "    description='Cuerpo:', #Texto que nomra al widget\n",
    "    layout=Layout(width='500px',height='300px')#Alto y ancho,\n",
    ")\n",
    "cuerpo"
   ]
  },
  {
   "cell_type": "markdown",
   "id": "instructional-setting",
   "metadata": {},
   "source": [
    "### widgets.DatePicker\n",
    "\n",
    "Lo usaremos para seleccionar la fecha del mensaje.\n",
    "\n",
    "```Python\n",
    "widgets.DatePicker(\n",
    "    description='Pick a Date',#Texto al lado del widget\n",
    "    disabled=False\n",
    ")\n",
    "```"
   ]
  },
  {
   "cell_type": "code",
   "execution_count": 14,
   "id": "smoking-knock",
   "metadata": {},
   "outputs": [
    {
     "data": {
      "application/vnd.jupyter.widget-view+json": {
       "model_id": "a64f7296d75b4fe99cec22873cbda97f",
       "version_major": 2,
       "version_minor": 0
      },
      "text/plain": [
       "DatePicker(value=None, description='Fecha:')"
      ]
     },
     "metadata": {},
     "output_type": "display_data"
    }
   ],
   "source": [
    "fecha=widgets.DatePicker(\n",
    "    description='Fecha:',\n",
    "    disabled=False\n",
    ")\n",
    "fecha"
   ]
  },
  {
   "cell_type": "markdown",
   "id": "still-frost",
   "metadata": {},
   "source": [
    "## Módulo final\n",
    "\n",
    "Con cada widget creado, uso la función `interact` para crear mi módulo interactivo que crea cartas: "
   ]
  },
  {
   "cell_type": "code",
   "execution_count": 15,
   "id": "experimental-orlando",
   "metadata": {},
   "outputs": [
    {
     "data": {
      "application/vnd.jupyter.widget-view+json": {
       "model_id": "2efdb0405a494e3db6a54b825fc9a529",
       "version_major": 2,
       "version_minor": 0
      },
      "text/plain": [
       "interactive(children=(Dropdown(description='Lugar:', options=('Bogotá D.C.', 'Medellín, Antioquia'), value='Bo…"
      ]
     },
     "metadata": {},
     "output_type": "display_data"
    },
    {
     "data": {
      "text/plain": [
       "<function __main__.carta(lugar, fecha, tratamiento, destinatario, cargo, empresa, saludo, cuerpo, despedida, firma)>"
      ]
     },
     "execution_count": 15,
     "metadata": {},
     "output_type": "execute_result"
    }
   ],
   "source": [
    "interact(carta,lugar=lugar, fecha=fecha, tratamiento=tratamiento, destinatario=destinatario, cargo=cargo, \n",
    "         empresa=empresa, saludo=saludo, cuerpo=cuerpo, despedida=despedida, firma=firma)"
   ]
  },
  {
   "cell_type": "markdown",
   "id": "purple-diabetes",
   "metadata": {},
   "source": [
    "Corrija este módulo interactivo y adaptelo a sus necesidades. Aproveche la fuerza de Python para hacer su vida más sencilla."
   ]
  }
 ],
 "metadata": {
  "kernelspec": {
   "display_name": "Python 3",
   "language": "python",
   "name": "python3"
  },
  "language_info": {
   "codemirror_mode": {
    "name": "ipython",
    "version": 3
   },
   "file_extension": ".py",
   "mimetype": "text/x-python",
   "name": "python",
   "nbconvert_exporter": "python",
   "pygments_lexer": "ipython3",
   "version": "3.8.5"
  }
 },
 "nbformat": 4,
 "nbformat_minor": 5
}
